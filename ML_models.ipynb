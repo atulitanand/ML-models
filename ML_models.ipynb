{
  "nbformat": 4,
  "nbformat_minor": 0,
  "metadata": {
    "colab": {
      "provenance": [],
      "authorship_tag": "ABX9TyNp8lHAJj0G+YPj6+irobER",
      "include_colab_link": true
    },
    "kernelspec": {
      "name": "python3",
      "display_name": "Python 3"
    },
    "language_info": {
      "name": "python"
    }
  },
  "cells": [
    {
      "cell_type": "markdown",
      "metadata": {
        "id": "view-in-github",
        "colab_type": "text"
      },
      "source": [
        "<a href=\"https://colab.research.google.com/github/icecoffee-dev/ML-models/blob/main/ML_models.ipynb\" target=\"_parent\"><img src=\"https://colab.research.google.com/assets/colab-badge.svg\" alt=\"Open In Colab\"/></a>"
      ]
    },
    {
      "cell_type": "code",
      "execution_count": 35,
      "metadata": {
        "colab": {
          "base_uri": "https://localhost:8080/",
          "height": 298
        },
        "id": "mR5o_EeRxlAV",
        "outputId": "40892f2c-69f9-4dd8-e003-0985e94a6581"
      },
      "outputs": [
        {
          "output_type": "stream",
          "name": "stdout",
          "text": [
            "\n"
          ]
        },
        {
          "output_type": "display_data",
          "data": {
            "text/plain": [
              "<Figure size 432x288 with 1 Axes>"
            ],
            "image/png": "[encoded data removed]"
          },
          "metadata": {
            "needs_background": "light"
          }
        }
      ],
      "source": [
        "from scipy.optimize.minpack import shape\n",
        "import numpy as np\n",
        "import matplotlib.pyplot as plt\n",
        "import pandas as pd\n",
        "\n",
        "\n",
        "values = np.arange(-100, 100)\n",
        "sq_values = np.array([i ** 2 for i in range(-100, 100)])\n",
        "x_values = pd.DataFrame({'numbers': values})\n",
        "y_values = pd.DataFrame({'sq': sq_values})\n",
        "\n",
        "from sklearn.model_selection import train_test_split\n",
        "x_train, x_test, y_train, y_test = train_test_split(x_values, y_values, test_size= 3/100, random_state= 0)\n",
        "\n",
        "from sklearn.linear_model import LinearRegression\n",
        "regressor = LinearRegression()\n",
        "regressor.fit(x_train, y_train)\n",
        "\n",
        "y_pred = regressor.predict(x_test)\n",
        "x_pred = regressor.predict(x_train)\n",
        "\n",
        "print()\n",
        "\n",
        "plt.scatter(x_train, y_train, color= 'green')\n",
        "plt.scatter(x_train, x_pred, color= 'red')\n",
        "plt.title('Square of numbers')\n",
        "plt.show()"
      ]
    },
    {
      "cell_type": "code",
      "source": [
        "from scipy.optimize.minpack import shape\n",
        "import numpy as np\n",
        "import matplotlib.pyplot as plt\n",
        "import pandas as pd\n",
        "from math import log\n",
        "\n",
        "values = np.arange(1, 100+1)\n",
        "sq_values = np.array([log(i) for i in range(1, 100+1)])\n",
        "x_values = pd.DataFrame({'numbers': values})\n",
        "y_values = pd.DataFrame({'sq': sq_values})\n",
        "\n",
        "from sklearn.model_selection import train_test_split\n",
        "x_train, x_test, y_train, y_test = train_test_split(x_values, y_values, test_size= 3/100, random_state= 0)\n",
        "\n",
        "from sklearn.linear_model import LinearRegression\n",
        "regressor = LinearRegression()\n",
        "regressor.fit(x_train, y_train)\n",
        "\n",
        "y_pred = regressor.predict(x_test)\n",
        "x_pred = regressor.predict(x_train)\n",
        "\n",
        "plt.scatter(x_train, y_train, color= 'green')\n",
        "plt.scatter(x_train, x_pred, color= 'red')\n",
        "plt.title('Log of numbers')\n",
        "plt.show()"
      ],
      "metadata": {
        "colab": {
          "base_uri": "https://localhost:8080/",
          "height": 281
        },
        "id": "A7R_mex0-RTO",
        "outputId": "a64ae7ab-ce1d-494e-d436-9e57e4e5240b"
      },
      "execution_count": 36,
      "outputs": [
        {
          "output_type": "display_data",
          "data": {
            "text/plain": [
              "<Figure size 432x288 with 1 Axes>"
            ],
            "image/png": "[encoded data removed]"
          },
          "metadata": {
            "needs_background": "light"
          }
        }
      ]
    }
  ]
}